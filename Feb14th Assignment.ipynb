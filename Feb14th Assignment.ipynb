{
 "cells": [
  {
   "cell_type": "markdown",
   "id": "9d0b1edc-871a-44c2-b803-2ef988a452a4",
   "metadata": {},
   "source": [
    "1). What is multithreading in python? hy is it used? Name the module used to handle threads in python"
   ]
  },
  {
   "cell_type": "markdown",
   "id": "0d6235d4-ea74-40cb-978c-565d64d40dc8",
   "metadata": {},
   "source": [
    "Multithreading in python is the process of assigning a task to the particular processor core inside an computer/server.\n",
    "The module to handle the threads are threading."
   ]
  },
  {
   "cell_type": "code",
   "execution_count": null,
   "id": "4eb47032-2fe6-490f-a799-e40b41451233",
   "metadata": {},
   "outputs": [],
   "source": []
  },
  {
   "cell_type": "code",
   "execution_count": null,
   "id": "3dc0095d-dfb8-40d6-818d-2e5af8ddafbf",
   "metadata": {},
   "outputs": [],
   "source": []
  },
  {
   "cell_type": "code",
   "execution_count": null,
   "id": "bca97ffe-b6bb-4861-ae9f-d3d01b7b536d",
   "metadata": {},
   "outputs": [],
   "source": []
  },
  {
   "cell_type": "markdown",
   "id": "15317a7c-ac8a-4156-983b-9daeeff4a334",
   "metadata": {},
   "source": [
    "2).Why threading module used? rite the use of the following functions\n",
    " activeCount()\n",
    " currentThread()\n",
    " enumerate()"
   ]
  },
  {
   "cell_type": "markdown",
   "id": "76a2c6d6-4c14-4fa7-af07-e918284089c3",
   "metadata": {},
   "source": [
    "activeCount()-returns the number of Threads currently Processing.\n",
    "currentThread()-returns the current Thread, corresponding to the caller’s thread of control\n",
    "enumerate()-returns a list of all Threads currently Proceesing, including the main thread; terminated threads and threads that have not yet been started are excluded."
   ]
  },
  {
   "cell_type": "code",
   "execution_count": null,
   "id": "93bc7346-eb8f-4989-b949-0b139a8f48c0",
   "metadata": {},
   "outputs": [],
   "source": []
  },
  {
   "cell_type": "code",
   "execution_count": null,
   "id": "df5cfb41-9dfa-4bdf-99f3-c8a1a55f5cdb",
   "metadata": {},
   "outputs": [],
   "source": []
  },
  {
   "cell_type": "code",
   "execution_count": null,
   "id": "55a9b4ac-d181-41bd-970a-9e5fad3622bb",
   "metadata": {},
   "outputs": [],
   "source": []
  },
  {
   "cell_type": "markdown",
   "id": "a9956a38-40f7-418a-a3b5-dc47de3408d0",
   "metadata": {},
   "source": [
    "3). Explain the following functions\n",
    "    run()\n",
    "    start()\n",
    "    join()\n",
    "    isAlive()"
   ]
  },
  {
   "cell_type": "markdown",
   "id": "a52f22dc-c016-41c3-a0a6-9533aac61877",
   "metadata": {},
   "source": [
    "run()-A run() method is used to define a thread's activity and can be overridden by a class that extends the threads class.\n",
    "start()-A start() method is used to initiate the activity of a thread. And it calls only once for each thread so that the execution of the thread can begin.\n",
    "join()-A join() method is used to block the execution of another code until the thread terminates.\n",
    "isAlive-A isalive() method is used to check the number of current processing in the threading process."
   ]
  },
  {
   "cell_type": "code",
   "execution_count": null,
   "id": "754d7675-ae50-4f87-b9b8-4b1a7396f7c6",
   "metadata": {},
   "outputs": [],
   "source": []
  },
  {
   "cell_type": "code",
   "execution_count": null,
   "id": "06e1e59e-5052-4814-9e11-22c52b54de21",
   "metadata": {},
   "outputs": [],
   "source": []
  },
  {
   "cell_type": "code",
   "execution_count": null,
   "id": "f6910d72-e940-4409-8711-bc63dc1bc804",
   "metadata": {},
   "outputs": [],
   "source": []
  },
  {
   "cell_type": "markdown",
   "id": "231d8c63-680c-4433-adc9-e3c7f6b9daed",
   "metadata": {},
   "source": [
    "4). Write a python program to create two threads. Thread one must print the list of squares and thread\n",
    "two must print the list of cubes"
   ]
  },
  {
   "cell_type": "code",
   "execution_count": 13,
   "id": "883a492b-19e4-42c3-9a1c-7668ed03e4a0",
   "metadata": {},
   "outputs": [],
   "source": [
    "import threading"
   ]
  },
  {
   "cell_type": "code",
   "execution_count": 14,
   "id": "cf050400-af1c-4f4f-91ef-5eefd866225e",
   "metadata": {},
   "outputs": [],
   "source": [
    "import time"
   ]
  },
  {
   "cell_type": "code",
   "execution_count": 18,
   "id": "58ee9e98-9ab8-44aa-b81a-254c995ef10d",
   "metadata": {},
   "outputs": [
    {
     "name": "stdout",
     "output_type": "stream",
     "text": [
      "The square of the number is 4 and the cube of the number is 8\n",
      "The square of the number is 9 and the cube of the number is 27\n",
      "The square of the number is 16 and the cube of the number is 64\n",
      "The square of the number is 25 and the cube of the number is 125\n"
     ]
    }
   ],
   "source": [
    "def printfunct(num):\n",
    "    print('The square of the number is %d and the cube of the number is %d'%(num**2,num**3))\n",
    "    time.sleep(1)\n",
    "threadq=[threading.Thread(target=printfunct,args=(i,)) for i in [2,3,4,5]]\n",
    "for i in threadq:\n",
    "        i.start()\n",
    "#This the function for the square and cube of number using multithreading process"
   ]
  },
  {
   "cell_type": "code",
   "execution_count": null,
   "id": "1b5bf99f-e098-4abf-ab30-865f83bf4eda",
   "metadata": {},
   "outputs": [],
   "source": []
  },
  {
   "cell_type": "code",
   "execution_count": null,
   "id": "fefd456c-d45c-4b84-a697-85da893eaeac",
   "metadata": {},
   "outputs": [],
   "source": []
  },
  {
   "cell_type": "code",
   "execution_count": null,
   "id": "bd071fd2-a271-4ef1-9245-614a8318c92b",
   "metadata": {},
   "outputs": [],
   "source": []
  },
  {
   "cell_type": "markdown",
   "id": "681ad2c5-481f-4181-b3d3-1f5a5c6e489f",
   "metadata": {},
   "source": [
    "5). State advantages and disadvantages of multithreading"
   ]
  },
  {
   "cell_type": "markdown",
   "id": "3db5d817-3401-49b7-94b1-b143dd52979e",
   "metadata": {},
   "source": [
    "Multithreading in Python has several advantages, making it a popular approach. Let's take a look at some of them –\n",
    "\n",
    "Python multithreading enables efficient utilization of the resources as the threads share the data space and memory.\n",
    "Multithreading in Python allows the concurrent and parallel occurrence of various tasks.\n",
    "It causes a reduction in time consumption or response time, thereby increasing the performance.\n",
    "\n",
    "The Disadvantages are\n",
    "It needs more careful synchronization.\n",
    "It can consume a large space of stocks of blocked threads.\n",
    "It needs support for thread or process.\n",
    "If a parent process has several threads for proper process functioning, the child processes should also be multithreaded because they may be required.\n",
    "It imposes context switching overhead."
   ]
  },
  {
   "cell_type": "code",
   "execution_count": null,
   "id": "7175d308-2066-4bdb-a7d0-d95a0e06d87f",
   "metadata": {},
   "outputs": [],
   "source": []
  },
  {
   "cell_type": "code",
   "execution_count": null,
   "id": "b2dfefb9-1724-43f1-ac28-f59e799acacd",
   "metadata": {},
   "outputs": [],
   "source": []
  },
  {
   "cell_type": "code",
   "execution_count": null,
   "id": "bb1fc023-7e1d-4097-ae00-068bbd4770ee",
   "metadata": {},
   "outputs": [],
   "source": []
  },
  {
   "cell_type": "markdown",
   "id": "77c569b9-235a-4021-a2e1-6f6be37eda9d",
   "metadata": {},
   "source": [
    "6). Explain deadlocks and race conditions."
   ]
  },
  {
   "cell_type": "markdown",
   "id": "dc084575-395f-4af6-97e8-05f9afdf12fc",
   "metadata": {},
   "source": [
    "Race conditions occur when two threads interact in a negatve (buggy) way depending on the exact order that their different instructions are executed. If one thread sets a global variable, for example, then a second thread reads and modifies that global variable, and the first thread reads the variable, the first thread may experience a bug because the variable has changed unexpectedly\n",
    "\n",
    "A deadlock is when two (or more) threads are blocking each other. Usually this has something to do with threads trying to acquire shared resources. For example if threads T1 and T2 need to acquire both resources A and B in order to do their work. If T1 acquires resource A, then T2 acquires resource B, T1 could then be waiting for resource B while T2 was waiting for resource A. In this case, both threads will wait indefinitely for the resource held by the other thread. These threads are said to be deadlocked."
   ]
  }
 ],
 "metadata": {
  "kernelspec": {
   "display_name": "Python 3 (ipykernel)",
   "language": "python",
   "name": "python3"
  },
  "language_info": {
   "codemirror_mode": {
    "name": "ipython",
    "version": 3
   },
   "file_extension": ".py",
   "mimetype": "text/x-python",
   "name": "python",
   "nbconvert_exporter": "python",
   "pygments_lexer": "ipython3",
   "version": "3.10.8"
  }
 },
 "nbformat": 4,
 "nbformat_minor": 5
}
