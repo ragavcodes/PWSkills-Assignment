{
 "cells": [
  {
   "cell_type": "code",
   "execution_count": 1,
   "id": "9f0e5381-0459-410b-a88b-6643cfeccffb",
   "metadata": {},
   "outputs": [],
   "source": [
    "# Q1.Explain Class and Object with respect to Object-Oriented Programming. Give a suitable example.\n",
    "#   Ans: A class is a user-defined blueprint or prototype from which objects are created. \n",
    "#        Classes provide a means of bundling data and functionality together\n",
    "#        The Object is instance of a class .\n",
    "#        Class is like a blueprint while an instance is a copy of the class with actual values"
   ]
  },
  {
   "cell_type": "code",
   "execution_count": null,
   "id": "9288df6f-401c-4daa-9f6e-d28e6ab95ddd",
   "metadata": {},
   "outputs": [],
   "source": []
  },
  {
   "cell_type": "code",
   "execution_count": null,
   "id": "fbf91110-218b-4831-aec7-4839dd87671b",
   "metadata": {},
   "outputs": [],
   "source": []
  },
  {
   "cell_type": "code",
   "execution_count": null,
   "id": "6eeb73e6-12a7-430d-8411-59e984d14a85",
   "metadata": {},
   "outputs": [],
   "source": [
    "# Q2.Name the four pillars of OOPs.\n",
    "# Ans: The four pillar of OOP's are Inheritance, Polymorphism, Encapsulation and Abstraction"
   ]
  },
  {
   "cell_type": "code",
   "execution_count": null,
   "id": "4a3f15c1-093c-49f7-9b05-1236b735080f",
   "metadata": {},
   "outputs": [],
   "source": []
  },
  {
   "cell_type": "code",
   "execution_count": null,
   "id": "b653b0b5-c228-4149-88b9-b7f394e29a41",
   "metadata": {},
   "outputs": [],
   "source": []
  },
  {
   "cell_type": "code",
   "execution_count": null,
   "id": "12ea6864-86d5-427d-9cde-6a1a141c4cb4",
   "metadata": {},
   "outputs": [],
   "source": [
    "# Q3.lain why the __init__() function is used. Give a suitable example.\n",
    "# #  Ans: The __init__() is constructor function in python.\n",
    "#         It is used to intialisze the operator state\n",
    "#         The  constructor function provides the necessary operation taken inside the def funciton.\n",
    "#         The task of constructors is to initialize(assign values) to the data members of the classwhen\n",
    "#         an object of the class is created.\n",
    "#         The constructor function starts function as soon as it is called.\n",
    "#         "
   ]
  },
  {
   "cell_type": "code",
   "execution_count": 2,
   "id": "96cc9f54-7bf9-4f40-89c2-a34571b44bac",
   "metadata": {},
   "outputs": [],
   "source": [
    "class pwskills1:\n",
    "    \n",
    "    def __init__(self ,Assignment, Quiz,Practicse):\n",
    "        \n",
    "        self.Assignment = Assignment\n",
    "        self.Quiz = Quiz\n",
    "        self.Practicse= Practicse\n",
    "        \n",
    "    \n",
    "    def return_student_detials(self):\n",
    "        return self.Assignment,self.Quiz,self.Practicse"
   ]
  },
  {
   "cell_type": "code",
   "execution_count": 4,
   "id": "c4cddbb8-2cad-4275-92fe-cb440e33c011",
   "metadata": {},
   "outputs": [],
   "source": [
    "Rocky=pwskills1('100','90','100')"
   ]
  },
  {
   "cell_type": "code",
   "execution_count": 6,
   "id": "ff3e4bb9-435f-4a04-a887-b216821478e1",
   "metadata": {},
   "outputs": [
    {
     "data": {
      "text/plain": [
       "'100'"
      ]
     },
     "execution_count": 6,
     "metadata": {},
     "output_type": "execute_result"
    }
   ],
   "source": [
    "Rocky.Assignment"
   ]
  },
  {
   "cell_type": "code",
   "execution_count": null,
   "id": "c6be8302-6cba-47cd-a5ac-e0c98e6dd88a",
   "metadata": {},
   "outputs": [],
   "source": []
  },
  {
   "cell_type": "code",
   "execution_count": null,
   "id": "1f586d13-c41f-4cbc-aaf1-ed5b5f7e8bf4",
   "metadata": {},
   "outputs": [],
   "source": []
  },
  {
   "cell_type": "code",
   "execution_count": 7,
   "id": "d55c4ad9-db28-42d0-8f64-f755930b693c",
   "metadata": {},
   "outputs": [],
   "source": [
    "## Q4. Why self is used in OOPs?\n",
    "#  Ans: The self is used to point to the which attribute or a reference to an attribute it \n",
    "#       need to bind with it in a class. "
   ]
  },
  {
   "cell_type": "code",
   "execution_count": null,
   "id": "c7aeb42a-5fae-4d8d-80d4-3f86fd31e82d",
   "metadata": {},
   "outputs": [],
   "source": []
  },
  {
   "cell_type": "code",
   "execution_count": null,
   "id": "41a96c89-3289-4256-9897-87bd4b1ab24c",
   "metadata": {},
   "outputs": [],
   "source": []
  },
  {
   "cell_type": "code",
   "execution_count": 8,
   "id": "f681a2d4-9930-48a3-9ebf-6ced8e862acf",
   "metadata": {},
   "outputs": [],
   "source": [
    "## Q5. What is inheritance? Give an example for each type of inheritance.\n",
    "#  Ans: The inherentance allows us to define a class which it belongs to.The inherentance call which \n",
    "#        Parent class and child class it with it belongs "
   ]
  },
  {
   "cell_type": "code",
   "execution_count": 14,
   "id": "8bf3efce-103d-4ba2-81dc-b6ac6deceb8b",
   "metadata": {},
   "outputs": [],
   "source": [
    "class Assignment1:\n",
    "    def test_Assignment(self) : \n",
    "        print(\"Assignment 1\" )"
   ]
  },
  {
   "cell_type": "code",
   "execution_count": 19,
   "id": "08b3d4ea-5e66-431d-9fe3-6a8d31f680fb",
   "metadata": {},
   "outputs": [],
   "source": [
    "class Assignment2:\n",
    "    def test_Assignment2(self) : \n",
    "        print(\"Assignment 2\")"
   ]
  },
  {
   "cell_type": "code",
   "execution_count": 20,
   "id": "a7a06586-bed1-4e89-8c23-b09e5de8cf9b",
   "metadata": {},
   "outputs": [],
   "source": [
    "class Assignment3(Assignment1 , Assignment2) : \n",
    "    pass"
   ]
  },
  {
   "cell_type": "code",
   "execution_count": 26,
   "id": "12521870-c9ac-4bda-b221-c68f0bb959ec",
   "metadata": {},
   "outputs": [],
   "source": [
    "obj_Assignment3  = Assignment3()"
   ]
  },
  {
   "cell_type": "code",
   "execution_count": 27,
   "id": "14ddef0a-5bd6-4f4a-9928-b14e7b520d51",
   "metadata": {},
   "outputs": [
    {
     "name": "stdout",
     "output_type": "stream",
     "text": [
      "Assignment 2\n"
     ]
    }
   ],
   "source": [
    "obj_Assignment3.test_Assignment2()"
   ]
  },
  {
   "cell_type": "code",
   "execution_count": 28,
   "id": "35ef703e-d485-4128-b04e-9bcd2f578d60",
   "metadata": {},
   "outputs": [],
   "source": [
    "# Here the When we call Assignment3 we obtain the Assignment as obj Assignment3 is inherited to the \n",
    "# the assignment2"
   ]
  }
 ],
 "metadata": {
  "kernelspec": {
   "display_name": "Python 3 (ipykernel)",
   "language": "python",
   "name": "python3"
  },
  "language_info": {
   "codemirror_mode": {
    "name": "ipython",
    "version": 3
   },
   "file_extension": ".py",
   "mimetype": "text/x-python",
   "name": "python",
   "nbconvert_exporter": "python",
   "pygments_lexer": "ipython3",
   "version": "3.10.8"
  }
 },
 "nbformat": 4,
 "nbformat_minor": 5
}
