{
 "cells": [
  {
   "cell_type": "markdown",
   "id": "e2d092f0-9483-49ee-8f36-26367941550d",
   "metadata": {},
   "source": [
    "Q1. You are writing code for a company. The requirement of the company is that you create a python\n",
    "function that will check whether the password entered by the user is correct or not. The function should\n",
    "take the password as input and return the string “Valid Password” if the entered password follows the\n",
    "below-given password guidelines else it should return “Invalid Password”.\n",
    "Note: 1. The Password should contain at least two uppercase letters and at least two lowercase letters.\n",
    "2. The Password should contain at least a number and three special characters.\n",
    "3. The length of the password should be 10 characters long."
   ]
  },
  {
   "cell_type": "code",
   "execution_count": 8,
   "id": "649a2a2c-b8f5-45e4-b06f-38179cf08a96",
   "metadata": {},
   "outputs": [
    {
     "name": "stdout",
     "output_type": "stream",
     "text": [
      "Valid Password\n"
     ]
    }
   ],
   "source": [
    "def chk(k):\n",
    "    l=0;c=0;num=0;s=0;q='!@#$%^&_)-('\n",
    "    for i in k:\n",
    "        if i.islower()==True:\n",
    "            l+=1        \n",
    "        elif i.isupper()==True:\n",
    "            c+=1\n",
    "        elif i.isnumeric()==True:\n",
    "            num+=1\n",
    "        elif i in q:\n",
    "            s+=1\n",
    "    if l>=2 and c>=2 and num>=1 and s>=3  and len(k)>10:\n",
    "        return \"Valid Password\"\n",
    "    else:\n",
    "        return \"Invalid Password\"\n",
    "k=\"Data#SCience#2Master#Class\"\n",
    "print(chk(k))"
   ]
  },
  {
   "cell_type": "code",
   "execution_count": null,
   "id": "be1285b5-a162-4119-adf2-e0b928a25bbe",
   "metadata": {},
   "outputs": [],
   "source": []
  },
  {
   "cell_type": "code",
   "execution_count": null,
   "id": "d3f6f3a9-c03e-426a-8baf-b1378a31d068",
   "metadata": {},
   "outputs": [],
   "source": []
  },
  {
   "cell_type": "code",
   "execution_count": null,
   "id": "8724dcc8-c514-45f0-bd20-316ae45e7ac9",
   "metadata": {},
   "outputs": [],
   "source": []
  },
  {
   "cell_type": "markdown",
   "id": "d9e2d7a6-5090-4e8c-a0b3-a9d657e646d4",
   "metadata": {},
   "source": [
    "Q2. Solve the below-given questions using at least one of the following:\n",
    "1. Lambda function\n",
    "2. Filter function\n",
    "3. Zap function\n",
    "4. List Comprehension\n",
    "1) Check if the string starts with a particular letterY\n",
    "2) Check if the string is numericY\n",
    "3) Sort a list of tuples having fruit names and their quantity. [(\"mango\",99),(\"orange\",80), (\"grapes\", 1000)-\n",
    "4) Find the squares of numbers from 1 to 10Y\n",
    "5) Find the cube root of numbers from 1 to 10Y\n",
    "6) Check if a given number is evenY\n",
    "7) Filter odd numbers from the given list [1,2,3,4,5,6,7,8,9,10]\n",
    "8)Sort a list of integers into positive and negative integers lists.[1,2,3,4,5,6,-1,-2,-3,-4,-5,0]"
   ]
  },
  {
   "cell_type": "code",
   "execution_count": 15,
   "id": "1226ba78-07e6-4fcf-898a-c910ea39febd",
   "metadata": {},
   "outputs": [
    {
     "name": "stdout",
     "output_type": "stream",
     "text": [
      "True\n"
     ]
    }
   ],
   "source": [
    "#1.Check if the string starts with a particular letter\n",
    "t='DataScience'\n",
    "print(t.startswith('D'))"
   ]
  },
  {
   "cell_type": "code",
   "execution_count": 18,
   "id": "1a82ea83-5b26-4f0e-b7f2-d56ac86df247",
   "metadata": {},
   "outputs": [
    {
     "name": "stdout",
     "output_type": "stream",
     "text": [
      "True\n"
     ]
    }
   ],
   "source": [
    "#2.Check if the string is numeric\n",
    "t='123456789'\n",
    "print(t.isnumeric())"
   ]
  },
  {
   "cell_type": "code",
   "execution_count": 21,
   "id": "8427a480-69d1-403d-948d-d85af380a431",
   "metadata": {},
   "outputs": [
    {
     "name": "stdout",
     "output_type": "stream",
     "text": [
      "[('orange', 80), ('mango', 99), ('grapes', 1000)]\n"
     ]
    }
   ],
   "source": [
    "#3.Sort a list of tuples having fruit names and their quantity.\n",
    "listfruits=[(\"mango\",99),(\"orange\",80), (\"grapes\", 1000)]\n",
    "listfruits.sort(key = lambda x: x[1]) \n",
    "print(listfruits)"
   ]
  },
  {
   "cell_type": "code",
   "execution_count": 12,
   "id": "83517d81-e928-46c7-ad8f-eda5c4edea74",
   "metadata": {},
   "outputs": [
    {
     "name": "stdout",
     "output_type": "stream",
     "text": [
      "[1, 4, 9, 16, 25, 36, 49, 64, 81, 100]\n"
     ]
    }
   ],
   "source": [
    "#4.Find the squares of numbers from 1 to 10\n",
    "t=[i**2 for i in range(1,11)]\n",
    "print(t)"
   ]
  },
  {
   "cell_type": "code",
   "execution_count": 14,
   "id": "90afa955-2d30-43c0-9b49-994f64c24ddc",
   "metadata": {},
   "outputs": [
    {
     "name": "stdout",
     "output_type": "stream",
     "text": [
      "[1, 8, 27, 64, 125, 216, 343, 512, 729, 1000]\n"
     ]
    }
   ],
   "source": [
    "#5.Find the cube of numbers from 1 to 10\n",
    "t=[i**3 for i in range(1,11)]\n",
    "print(t)"
   ]
  },
  {
   "cell_type": "code",
   "execution_count": 23,
   "id": "3a4c91a4-5d19-442c-aad1-729ca3fad01a",
   "metadata": {},
   "outputs": [
    {
     "name": "stdout",
     "output_type": "stream",
     "text": [
      "Even\n"
     ]
    }
   ],
   "source": [
    "#6.Find the given number is even\n",
    "num=42\n",
    "print('Even' if num%2==0 else 'Odd')"
   ]
  },
  {
   "cell_type": "code",
   "execution_count": 27,
   "id": "f87e5bf3-cfe0-4b44-8e56-b7e2df37c550",
   "metadata": {},
   "outputs": [
    {
     "name": "stdout",
     "output_type": "stream",
     "text": [
      "[1, 3, 5, 7, 9]\n"
     ]
    }
   ],
   "source": [
    "#7.Filter the odd number from the list\n",
    "list1=[1,2,3,4,5,6,7,8,9,10]\n",
    "oddnum=list(filter(lambda x:x%2!=0,list1))\n",
    "print(oddnum)"
   ]
  },
  {
   "cell_type": "code",
   "execution_count": 29,
   "id": "7233bb52-cfa0-4751-9641-432d68df742b",
   "metadata": {},
   "outputs": [
    {
     "name": "stdout",
     "output_type": "stream",
     "text": [
      "[1, 2, 3, 4, 5, 6]\n"
     ]
    }
   ],
   "source": [
    "#7.Filter the even number from the list\n",
    "list1=[1,2,3,4,5,6,-1,-2,-3,-4,-5,0]\n",
    "positivenum=list(filter(lambda x:x>0,list1))\n",
    "print(positivenum)"
   ]
  }
 ],
 "metadata": {
  "kernelspec": {
   "display_name": "Python 3 (ipykernel)",
   "language": "python",
   "name": "python3"
  },
  "language_info": {
   "codemirror_mode": {
    "name": "ipython",
    "version": 3
   },
   "file_extension": ".py",
   "mimetype": "text/x-python",
   "name": "python",
   "nbconvert_exporter": "python",
   "pygments_lexer": "ipython3",
   "version": "3.10.8"
  }
 },
 "nbformat": 4,
 "nbformat_minor": 5
}
