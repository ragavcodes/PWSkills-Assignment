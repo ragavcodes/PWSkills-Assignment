{
 "cells": [
  {
   "cell_type": "markdown",
   "id": "7808adff-f0fd-415e-9cd4-56141a9a2709",
   "metadata": {},
   "source": [
    "Q1)Ceate a vehicle class with an init method having instance variables as name_of_vehicle, max_speed\n",
    "and average_of_vehicle."
   ]
  },
  {
   "cell_type": "code",
   "execution_count": null,
   "id": "17cda8c8-52ce-4e80-8c47-80f803603445",
   "metadata": {},
   "outputs": [],
   "source": [
    "class Vehicle:\n",
    "    def __init__(self, name_of_vehicle, max_speed, average_of_vehicle):\n",
    "        self.name_of_vehicle = name_of_vehicle\n",
    "        self.max_speed = max_speed\n",
    "        self.average_of_vehicle = average_of_vehicle\n",
    "\n",
    "car = Vehicle(\"Honda Civic\", 200, 10)\n",
    "bike = Vehicle(\"Kawasaki Ninja\", 300, 25)"
   ]
  },
  {
   "cell_type": "code",
   "execution_count": null,
   "id": "b9f4dfd1-1a88-4778-b9ee-836a4927c862",
   "metadata": {},
   "outputs": [],
   "source": []
  },
  {
   "cell_type": "code",
   "execution_count": null,
   "id": "c5281026-3bdd-45e5-bbe0-cebcbd7af2f1",
   "metadata": {},
   "outputs": [],
   "source": []
  },
  {
   "cell_type": "code",
   "execution_count": null,
   "id": "cdae3d1a-856b-4194-ba59-2949817f711d",
   "metadata": {},
   "outputs": [],
   "source": []
  },
  {
   "cell_type": "markdown",
   "id": "8a53b885-a42b-4914-be9b-46b0f98ae465",
   "metadata": {},
   "source": [
    "Q2)Create a child class car from the vehicle class created in Que 1, which will inherit the vehicle class.\n",
    "Create a method named seating_capacity which takes capacity as an argument and returns the name of\n",
    "the vehicle and its seating capacity."
   ]
  },
  {
   "cell_type": "code",
   "execution_count": 20,
   "id": "e08defe1-5e2a-4dc6-85e5-91fb9435a1f6",
   "metadata": {},
   "outputs": [],
   "source": [
    "class vehicle:\n",
    "    def __init__(self,make,model):\n",
    "        self.make=make\n",
    "        self.model=model\n",
    "\n",
    "    class Car(vehicle):\n",
    "        def seating(self,capacity):\n",
    "            return (\"The car model is\",self.make,self.model,\"and the seating capacity is\",self.capacity)\n",
    "mycar=Car('Hyundai','Verna')\n",
    "print(mycar.seating(5))"
   ]
  },
  {
   "cell_type": "markdown",
   "id": "8aedc7c2-5cb2-470f-9498-0f72ed32ea85",
   "metadata": {},
   "source": []
  },
  {
   "cell_type": "code",
   "execution_count": null,
   "id": "e6202406-0f77-43f7-abfd-4a66ee887ce1",
   "metadata": {},
   "outputs": [],
   "source": []
  },
  {
   "cell_type": "code",
   "execution_count": null,
   "id": "1f86c09f-ca8b-4b1d-b37f-e308b194d847",
   "metadata": {},
   "outputs": [],
   "source": []
  },
  {
   "cell_type": "markdown",
   "id": "a21455f0-684c-4796-84e8-05b6735b1841",
   "metadata": {},
   "source": [
    "Q3. What is multiple inheritance? Write a python code to demonstrate multiple inheritance."
   ]
  },
  {
   "cell_type": "markdown",
   "id": "41abfc14-99a2-49d5-9031-4be7b8a95a0a",
   "metadata": {},
   "source": [
    "Inheritance is the mechanism to achieve the re-usability of code as one class(child class) can derive the properties of another class(parent class). It also provides transitivity.\n",
    "Example code for multiple inheritence\n",
    "\n",
    "class Class1:\n",
    "\tdef m(self):\n",
    "\t\tprint(\"In Class1\")\n",
    "        \n",
    "class Class2(Class1):\n",
    "\tpass\n",
    "    \n",
    "class Class3(Class1):\n",
    "\tdef m(self):\n",
    "\t\tprint(\"In Class3\")\n",
    "        \n",
    "class Class4(Class2, Class3):\n",
    "\tpass\t\n",
    "    \n",
    "obj = Class4()\n",
    "obj.m()"
   ]
  },
  {
   "cell_type": "code",
   "execution_count": null,
   "id": "1f7bae6e-9290-4468-b99b-ad256fbe0183",
   "metadata": {},
   "outputs": [],
   "source": []
  },
  {
   "cell_type": "code",
   "execution_count": null,
   "id": "728cc530-393b-4c28-befb-1128ccf38565",
   "metadata": {},
   "outputs": [],
   "source": []
  },
  {
   "cell_type": "code",
   "execution_count": null,
   "id": "61661b3c-ba45-4fc3-bde0-1d651d38a01d",
   "metadata": {},
   "outputs": [],
   "source": []
  },
  {
   "cell_type": "markdown",
   "id": "6c9b69ab-b4cd-4bea-9708-07181f5fae04",
   "metadata": {},
   "source": [
    "What are getter and setter in python?Create a class and create a getter and a setter method in this\n",
    "class."
   ]
  },
  {
   "cell_type": "markdown",
   "id": "f78195eb-2c8b-4636-8a75-ce00d539e1cd",
   "metadata": {},
   "source": [
    "Getter: A method that allows you to access an attribute in a given class\n",
    "\n",
    "Setter: A method that allows you to set or mutate the value of an attribute in a class\n",
    "\n"
   ]
  },
  {
   "cell_type": "code",
   "execution_count": 17,
   "id": "a5e1f0db-8048-4480-9241-8b07457df405",
   "metadata": {},
   "outputs": [],
   "source": [
    "#Example Code for getter and setter in python\n",
    "class person:\n",
    "    def __init__(self,name):\n",
    "        self._name=name\n",
    "    def get_name(self):   #Getter method function\n",
    "        return self._name\n",
    "    def get_name(self,name):  #Setter method function\n",
    "        self._name=name\n",
    "person=person('Krish Naik')\n",
    "print(person.get_name())\n",
    "person=person.set_name('Sudhanshu')\n",
    "print(person.get_name())"
   ]
  },
  {
   "cell_type": "code",
   "execution_count": null,
   "id": "652af256-fc2b-480c-823a-84609df51d3f",
   "metadata": {},
   "outputs": [],
   "source": []
  },
  {
   "cell_type": "code",
   "execution_count": null,
   "id": "1db62374-7eee-4ea2-b6ad-25b73864720d",
   "metadata": {},
   "outputs": [],
   "source": []
  },
  {
   "cell_type": "markdown",
   "id": "9639a088-87ed-4544-b57d-f19902e45ae2",
   "metadata": {},
   "source": [
    "Q5.What is method overriding in python? Write a python code to demonstrate method overriding."
   ]
  },
  {
   "cell_type": "markdown",
   "id": "ff02a0c0-b145-4b8e-bab1-897ad5653b2e",
   "metadata": {},
   "source": [
    "Method overriding is an ability of any object-oriented programming language that allows a subclass or child class to provide a specific implementation of a method that is already provided by one of its super-classes or parent classes. "
   ]
  },
  {
   "cell_type": "code",
   "execution_count": 8,
   "id": "150f89e4-255d-4ce3-ac53-0da66a38e7e2",
   "metadata": {},
   "outputs": [],
   "source": [
    "#The below is the example for the overriding in the python\n",
    "class Shape:\n",
    "    data1 = \"abc\"\n",
    "\n",
    "    def no_of_sides(self):\n",
    "        print(\"My sides need to be defined. I am from shape class.\")\n",
    "        \n",
    "    def two_dimensional(self):\n",
    "        print(\"I am a 2D object. I am from shape class\")"
   ]
  },
  {
   "cell_type": "code",
   "execution_count": null,
   "id": "ed8bcee5-f9d7-4932-8e9a-a9fdaa24ceaf",
   "metadata": {},
   "outputs": [],
   "source": []
  }
 ],
 "metadata": {
  "kernelspec": {
   "display_name": "Python 3 (ipykernel)",
   "language": "python",
   "name": "python3"
  },
  "language_info": {
   "codemirror_mode": {
    "name": "ipython",
    "version": 3
   },
   "file_extension": ".py",
   "mimetype": "text/x-python",
   "name": "python",
   "nbconvert_exporter": "python",
   "pygments_lexer": "ipython3",
   "version": "3.10.8"
  }
 },
 "nbformat": 4,
 "nbformat_minor": 5
}
