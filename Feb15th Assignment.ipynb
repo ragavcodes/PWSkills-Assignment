{
 "cells": [
  {
   "cell_type": "markdown",
   "id": "d0a5827a-75bc-4066-bcd2-ab6fe0e987ff",
   "metadata": {},
   "source": [
    "Q1. What is multiprocessing in python? Why is it useful?"
   ]
  },
  {
   "cell_type": "markdown",
   "id": "15a6b2de-142e-4575-af3d-9481f63c003e",
   "metadata": {},
   "source": [
    "Multiprocessing in python refers to distributing the work load to the core processor.\n",
    "The multiprocessing help in high latency and launching multiple instances."
   ]
  },
  {
   "cell_type": "code",
   "execution_count": null,
   "id": "167af355-77ad-4948-b898-c0e11cca26fc",
   "metadata": {},
   "outputs": [],
   "source": []
  },
  {
   "cell_type": "code",
   "execution_count": null,
   "id": "1b305f73-94c0-4685-bbca-20f28d213710",
   "metadata": {},
   "outputs": [],
   "source": []
  },
  {
   "cell_type": "code",
   "execution_count": null,
   "id": "66a59858-28c7-459f-8071-3f30b2985f7f",
   "metadata": {},
   "outputs": [],
   "source": []
  },
  {
   "cell_type": "markdown",
   "id": "23021e9a-aa5c-4ceb-ac1d-cd272986069e",
   "metadata": {},
   "source": [
    "Q2. What are the differences between multiprocessing and multithreading?"
   ]
  },
  {
   "cell_type": "markdown",
   "id": "b135798f-e3b7-4643-8fb2-a4aa9f0acdf9",
   "metadata": {},
   "source": [
    "Multiprocessing uses two or more CPUs to increase computing power, whereas multithreading uses a single process with multiple code segments to increase computing power."
   ]
  },
  {
   "cell_type": "code",
   "execution_count": null,
   "id": "87284068-44be-47e6-8d2f-5b69aa54aa39",
   "metadata": {},
   "outputs": [],
   "source": []
  },
  {
   "cell_type": "code",
   "execution_count": null,
   "id": "7912be9a-ad80-470b-9a95-12733f112a7a",
   "metadata": {},
   "outputs": [],
   "source": []
  },
  {
   "cell_type": "code",
   "execution_count": null,
   "id": "e79962c4-c5ad-437f-bda5-9f743a924a9f",
   "metadata": {},
   "outputs": [],
   "source": []
  },
  {
   "cell_type": "markdown",
   "id": "083ee3ed-13d6-40fc-93ae-94ca8ececf8d",
   "metadata": {},
   "source": [
    "Q3. Write a python code to create a process using the multiprocessing module."
   ]
  },
  {
   "cell_type": "code",
   "execution_count": 3,
   "id": "1623066c-aeef-4635-9354-7af90216aa2a",
   "metadata": {},
   "outputs": [
    {
     "name": "stdout",
     "output_type": "stream",
     "text": [
      "this is my main function\n",
      "this is my multiprocessing prog\n"
     ]
    }
   ],
   "source": [
    "import multiprocessing\n",
    "\n",
    "def work():\n",
    "    print(\"this is my multiprocessing prog\")\n",
    "\n",
    "if __name__ == \"__main__\":\n",
    "    q= multiprocessing.Process(target=work)\n",
    "    print(\"this is my main function\")\n",
    "    q.start()\n",
    "    q.join()\n",
    "    \n",
    "    "
   ]
  },
  {
   "cell_type": "code",
   "execution_count": null,
   "id": "2c055dd5-73f3-4afd-a965-a7724cb28362",
   "metadata": {},
   "outputs": [],
   "source": []
  },
  {
   "cell_type": "code",
   "execution_count": null,
   "id": "be7ea5d9-683c-4423-afd1-fb795151186f",
   "metadata": {},
   "outputs": [],
   "source": []
  },
  {
   "cell_type": "code",
   "execution_count": null,
   "id": "6676c555-e8df-423f-88c8-fd9be225f94a",
   "metadata": {},
   "outputs": [],
   "source": []
  },
  {
   "cell_type": "markdown",
   "id": "6ec04eec-928c-40c6-9639-4e8d300a9fe1",
   "metadata": {},
   "source": [
    "Q4. What is a multiprocessing pool in python? Why is it used?"
   ]
  },
  {
   "cell_type": "markdown",
   "id": "f4dd5d68-4a4a-416e-a94c-2325920751bb",
   "metadata": {},
   "source": [
    "Python multiprocessing Pool can be used for parallel execution of a function across multiple input values, distributing the input data across processes (data parallelism).\n",
    "The pool is used for when you have junk of data, you can use Pool class.Only the process under execution are kept in the memory.I/O operation: It waits till the I/O operation is completed & does not schedule another process. This might increase the execution time.Uses FIFO scheduler."
   ]
  },
  {
   "cell_type": "code",
   "execution_count": null,
   "id": "71ad64a4-e943-469d-a6ab-e5665e3ab4b0",
   "metadata": {},
   "outputs": [],
   "source": []
  },
  {
   "cell_type": "code",
   "execution_count": null,
   "id": "e62532ea-2136-43ea-95b3-f2b0ab20d276",
   "metadata": {},
   "outputs": [],
   "source": []
  },
  {
   "cell_type": "code",
   "execution_count": null,
   "id": "8987fd07-fcbb-4f99-978a-846738b6ac02",
   "metadata": {},
   "outputs": [],
   "source": []
  },
  {
   "cell_type": "markdown",
   "id": "aeae812a-3939-4201-b9b1-69f87ba2b109",
   "metadata": {},
   "source": [
    "Q5. How can we create a pool of worker processes in python using the multiprocessing module?"
   ]
  },
  {
   "cell_type": "markdown",
   "id": "de326c5a-d7a3-4e36-81e4-9739acff4e7d",
   "metadata": {},
   "source": [
    "We can create a pool of worker process by first importing the multiprocessing library.\n",
    "Then in the main function we have to denote the pool function while declaring the multiprocessing module in the with function.\n",
    "The data has to be mapped by the map function in python."
   ]
  },
  {
   "cell_type": "code",
   "execution_count": null,
   "id": "e6676c1b-68f6-4a98-bb0c-00f78b0cc4b3",
   "metadata": {},
   "outputs": [],
   "source": []
  },
  {
   "cell_type": "code",
   "execution_count": null,
   "id": "323747d4-f203-4a29-a414-6872631c6bed",
   "metadata": {},
   "outputs": [],
   "source": []
  },
  {
   "cell_type": "code",
   "execution_count": null,
   "id": "0adc45d7-b395-4538-bb08-dcb4adf60faf",
   "metadata": {},
   "outputs": [],
   "source": []
  },
  {
   "cell_type": "markdown",
   "id": "c453afe6-9da0-4005-be09-f59dfe1b2f77",
   "metadata": {},
   "source": [
    "Q6. Write a python program to create 4 processes, each process should print a different number using the\n",
    "multiprocessing module in python."
   ]
  },
  {
   "cell_type": "code",
   "execution_count": 10,
   "id": "8310da51-0792-456a-8d34-5ae03e4f2071",
   "metadata": {},
   "outputs": [
    {
     "name": "stdout",
     "output_type": "stream",
     "text": [
      "[27, 64, 125, 216, 216, 343, 658503, 512, 512]\n"
     ]
    }
   ],
   "source": [
    "# importing the multiprocessing module\n",
    "import multiprocessing\n",
    "def cube(num):\n",
    "\treturn ((num * num * num))\n",
    "if __name__ == \"__main__\":\n",
    "    with multiprocessing.Pool(processes=4) as pool :\n",
    "        out =pool.map(cube , [3,4,5,6,6,7,87,8,8])\n",
    "        print(out)\n",
    "\t#print(\"Done!\")\n"
   ]
  }
 ],
 "metadata": {
  "kernelspec": {
   "display_name": "Python 3 (ipykernel)",
   "language": "python",
   "name": "python3"
  },
  "language_info": {
   "codemirror_mode": {
    "name": "ipython",
    "version": 3
   },
   "file_extension": ".py",
   "mimetype": "text/x-python",
   "name": "python",
   "nbconvert_exporter": "python",
   "pygments_lexer": "ipython3",
   "version": "3.10.8"
  }
 },
 "nbformat": 4,
 "nbformat_minor": 5
}
