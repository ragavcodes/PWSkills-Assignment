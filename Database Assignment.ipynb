{
 "cells": [
  {
   "cell_type": "markdown",
   "id": "674434eb-9150-414f-8cc9-66585c7543c9",
   "metadata": {},
   "source": [
    "Q1. What is a database? Differentiate between SQL and NoSQL databases."
   ]
  },
  {
   "cell_type": "markdown",
   "id": "8e86db1c-5dcb-43e0-b92a-6ffd2bce4319",
   "metadata": {},
   "source": [
    "The database is defined as the storage of sequential query data as well as not only sequential data.In layman term \n",
    "the database is an storage for the data.\n",
    "\n",
    "The SQL is used for storing only sequential data of rows and Columns.But in the NOSQL we can store the datas such as \n",
    "word,pdf and etc....\n"
   ]
  },
  {
   "cell_type": "code",
   "execution_count": null,
   "id": "04179331-abd0-4500-bcdf-f63ab70ba0f7",
   "metadata": {},
   "outputs": [],
   "source": []
  },
  {
   "cell_type": "code",
   "execution_count": null,
   "id": "b97421b3-11b2-4524-8082-a3229fa45196",
   "metadata": {},
   "outputs": [],
   "source": []
  },
  {
   "cell_type": "code",
   "execution_count": null,
   "id": "e65fcdda-cd6a-454a-9cc1-5f26a1f9795b",
   "metadata": {},
   "outputs": [],
   "source": []
  },
  {
   "cell_type": "markdown",
   "id": "0ecb3780-4f3f-4664-9683-2be1c9e5d724",
   "metadata": {},
   "source": [
    "Q2. What is DDL? Explain why CREATE, DROP, ALTER, and TRUNCATE are used with an example."
   ]
  },
  {
   "cell_type": "markdown",
   "id": "f2206b7b-b4f1-46cc-80c0-d251c419bc93",
   "metadata": {},
   "source": [
    "The term DDL stands for the data defintion language.It is an subset of the SQL program.\n",
    "It is a language for describing data and its relationships in a database.\n",
    "\n",
    "CREATE - to create objects in the database.\n",
    "CREATE TABLE Student_info\n",
    "(\n",
    "College_Id number(10),\n",
    "College_name varchar(30),\n",
    "Branch varchar(10)\n",
    ");\n",
    "\n",
    "ALTER - alters the structure of the database.\n",
    "\n",
    "ALTER TABLE Student_info\n",
    "ADD CGPA number;\n",
    "\n",
    "\n",
    "DROP - delete objects from the database.\n",
    "\n",
    "DROP TABLE Student_info;\n",
    "\n",
    "TRUNCATE - remove all records from a table, including all spaces allocated for the records are removed.\n",
    "\n",
    "TRUNCATE Student_Data;"
   ]
  },
  {
   "cell_type": "code",
   "execution_count": null,
   "id": "ff01d48e-21d3-4976-a704-f3b7d3ebcefc",
   "metadata": {},
   "outputs": [],
   "source": []
  },
  {
   "cell_type": "code",
   "execution_count": null,
   "id": "86f8166c-d241-4868-8c96-05baa6fed019",
   "metadata": {},
   "outputs": [],
   "source": []
  },
  {
   "cell_type": "code",
   "execution_count": null,
   "id": "e3ef2218-0f69-4c6e-a7f2-6f6e14595666",
   "metadata": {},
   "outputs": [],
   "source": []
  },
  {
   "cell_type": "markdown",
   "id": "f4620c2b-4224-4d99-ad74-8362a18fdffd",
   "metadata": {},
   "source": [
    "Q3. What is DML? Explain INSERT, UPDATE, and DELETE with an example."
   ]
  },
  {
   "cell_type": "markdown",
   "id": "06510415-742e-407b-80ab-95bc15f91e63",
   "metadata": {},
   "source": [
    "The structured query language (SQL) commands deal with the manipulation of data present in the database that belongs to the DML. \n",
    "It is also used as Data Manipulation Language.\n",
    "This includes most of the SQL statements.\n",
    "\n",
    "SELECT − Retrieve data from the database.\n",
    "\n",
    "SELECT * from test1;\n",
    "\n",
    "INSERT − Insert data into a table.\n",
    "\n",
    "Insert into test1.test_values(10,'Datascience');\n",
    "\n",
    "UPDATE − Update existing data within a table.\n",
    "\n",
    "Update  test SET [col2,'datascience with python'] \n",
    "\n",
    "DELETE − Delete records from a database table.\n",
    "\n",
    "DELETE * from test1;"
   ]
  },
  {
   "cell_type": "code",
   "execution_count": null,
   "id": "3c18818d-0200-4f46-9388-f4bf39de13b3",
   "metadata": {},
   "outputs": [],
   "source": []
  },
  {
   "cell_type": "code",
   "execution_count": null,
   "id": "2d95c0d3-b1e0-43b7-88bd-91e1549976e8",
   "metadata": {},
   "outputs": [],
   "source": []
  },
  {
   "cell_type": "code",
   "execution_count": null,
   "id": "6f41307b-d29d-4796-9c32-e882490a8745",
   "metadata": {},
   "outputs": [],
   "source": []
  },
  {
   "cell_type": "markdown",
   "id": "b5b54249-cebf-416b-b01a-ee87fcf160a3",
   "metadata": {},
   "source": [
    "Q4. What is DQL? Explain SELECT with an example."
   ]
  },
  {
   "cell_type": "markdown",
   "id": "7aa4d773-efff-4efc-ba1e-bd3f4ef2be9f",
   "metadata": {},
   "source": [
    "The DQL is defined as the Data Query Language are computer languages that are used to make various queries in \n",
    "information systems and databases.\n",
    "SELECT Stu_Name test WHERE marks=90;\n",
    "\n"
   ]
  },
  {
   "cell_type": "code",
   "execution_count": null,
   "id": "5284a356-0be1-4735-bcc7-28e4762fb2dd",
   "metadata": {},
   "outputs": [],
   "source": []
  },
  {
   "cell_type": "code",
   "execution_count": null,
   "id": "1c521817-89c8-45bf-a64e-09f18c63a1e8",
   "metadata": {},
   "outputs": [],
   "source": []
  },
  {
   "cell_type": "code",
   "execution_count": null,
   "id": "12548598-0811-48e2-bd15-f7b84964cd21",
   "metadata": {},
   "outputs": [],
   "source": []
  },
  {
   "cell_type": "markdown",
   "id": "619edae2-2db0-467d-b4ee-c6839e98d1b4",
   "metadata": {},
   "source": [
    "Q5. Explain Primary Key and Foreign Key."
   ]
  },
  {
   "cell_type": "markdown",
   "id": "ac2fee69-fb31-49d6-89db-a325d18e3109",
   "metadata": {},
   "source": [
    "A primary key is used to ensure that data in the specific column is unique. A column cannot have NULL values. It is either an existing table column or a column that is specifically generated by the database according to a defined sequence. \n",
    "\n",
    "A foreign key is a column or group of columns in a relational database table that provides a link between data in two tables. It is a column (or columns) that references a column (most often the primary key) of another table. \n",
    "\n"
   ]
  },
  {
   "cell_type": "code",
   "execution_count": null,
   "id": "15677fea-2b92-4533-8ce4-ef8c00d5ccd2",
   "metadata": {},
   "outputs": [],
   "source": []
  },
  {
   "cell_type": "code",
   "execution_count": null,
   "id": "8e8ea0a5-fa55-4767-9ffe-20c944230b95",
   "metadata": {},
   "outputs": [],
   "source": []
  },
  {
   "cell_type": "code",
   "execution_count": null,
   "id": "95362c7d-16c7-45a7-9572-55adea6648ca",
   "metadata": {},
   "outputs": [],
   "source": []
  },
  {
   "cell_type": "markdown",
   "id": "2b907eb0-2bfb-4ed4-91cc-58e20ec1abf3",
   "metadata": {},
   "source": [
    "Q6. Write a python code to connect MySQL to python. Explain the cursor() and execute() method."
   ]
  },
  {
   "cell_type": "markdown",
   "id": "392a2c8a-e51c-4207-8a44-04607d89c07d",
   "metadata": {},
   "source": [
    "import mysql.connector\n",
    "mydb = mysql.connector.connect(\n",
    "  host=\"localhost\",\n",
    "  user=\"abc\",\n",
    "  password=\"password\"\n",
    ")\n",
    "mycursor = mydb.cursor()\n",
    "mydb.execute()\n",
    "\n",
    "\n",
    "The cursor() command is used for the connection to the database\n",
    "The execute() command is used to execute the python code to implement the changes in the sql file"
   ]
  },
  {
   "cell_type": "code",
   "execution_count": null,
   "id": "ff07cf36-5b9f-4f89-8511-7f9c4c2149f7",
   "metadata": {},
   "outputs": [],
   "source": []
  },
  {
   "cell_type": "code",
   "execution_count": null,
   "id": "e48d3d98-8450-414e-b651-ec5573cfff6a",
   "metadata": {},
   "outputs": [],
   "source": []
  },
  {
   "cell_type": "code",
   "execution_count": null,
   "id": "2a5fcd02-b320-4858-9fb0-0aef4de14741",
   "metadata": {},
   "outputs": [],
   "source": []
  },
  {
   "cell_type": "markdown",
   "id": "acc6da02-e8b6-46f7-9369-073f2ca3c391",
   "metadata": {},
   "source": [
    "Q7. Give the order of execution of SQL clauses in an SQL query."
   ]
  },
  {
   "cell_type": "markdown",
   "id": "a03d8c90-a730-4821-b54c-d2f48b779e01",
   "metadata": {},
   "source": [
    "The order in which the clauses in queries are executed is as follows:\n",
    "\n",
    "1. FROM/JOIN: The FROM and/or JOIN clauses are executed first to determine the data of interest.\n",
    "\n",
    "2. WHERE: The WHERE clause is executed to filter out records that do not meet the constraints.\n",
    "\n",
    "3. GROUP BY: The GROUP BY clause is executed to group the data based on the values in one or more columns.\n",
    "\n",
    "4. HAVING: The HAVING clause is executed to remove the created grouped records that don’t meet the constraints.\n",
    "\n",
    "5. SELECT: The SELECT clause is executed to derive all desired columns and expressions.\n",
    "\n",
    "6. ORDER BY: The ORDER BY clause is executed to sort the derived values in ascending or descending order.\n",
    "\n",
    "7. LIMIT/OFFSET: Finally, the LIMIT and/or OFFSET clauses are executed to keep or skip a specified number of rows."
   ]
  }
 ],
 "metadata": {
  "kernelspec": {
   "display_name": "Python 3 (ipykernel)",
   "language": "python",
   "name": "python3"
  },
  "language_info": {
   "codemirror_mode": {
    "name": "ipython",
    "version": 3
   },
   "file_extension": ".py",
   "mimetype": "text/x-python",
   "name": "python",
   "nbconvert_exporter": "python",
   "pygments_lexer": "ipython3",
   "version": "3.10.8"
  }
 },
 "nbformat": 4,
 "nbformat_minor": 5
}
