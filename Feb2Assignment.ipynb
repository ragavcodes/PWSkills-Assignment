{
 "cells": [
  {
   "cell_type": "code",
   "execution_count": null,
   "id": "a698e803-d72c-441b-bf39-c543e59756c3",
   "metadata": {},
   "outputs": [],
   "source": [
    "# p1)What are the characterstics of tuples?Is tuple immutable?\n",
    "#  ANS: The tuples characterstics are \n",
    "#      1) The tuples are ordered i.e it does not change order in such as set.\n",
    "#      2) It can hold duplicate values.\n",
    "#      3) It can contain unorder collection i.e combination of sting integers.\n",
    "#      4) It is enclosed by '()'.\n",
    "#      5) The tuple are immutable means no changes can be made to tuples\n",
    "#      6) Slicing function works on the tuple."
   ]
  },
  {
   "cell_type": "code",
   "execution_count": null,
   "id": "bb90153c-a176-4fdb-84aa-c30ad5b4592d",
   "metadata": {},
   "outputs": [],
   "source": []
  },
  {
   "cell_type": "code",
   "execution_count": null,
   "id": "7c2cd01c-5a6b-4147-89f2-b745f040010a",
   "metadata": {},
   "outputs": [],
   "source": []
  },
  {
   "cell_type": "code",
   "execution_count": null,
   "id": "5891434f-5b9e-4cea-8bf7-1c623ef4020a",
   "metadata": {},
   "outputs": [],
   "source": [
    "# p2)What are the two tuple methods in python?Give an example of each mehod.Give a reason why tuples have ony two in-built \n",
    "#    methods as compared to list\n",
    "#    ANS:  The two tuple methods in python are \n",
    "#      1.count()-To count the number of occurance in the tuple\n",
    "#      2.index()-To reterieve the index of the item present in the tuple\n",
    "#     The list is an immutable type object compared to the list which is mutable.Hence there are only two type of in built \n",
    "#     function present in the tuples."
   ]
  },
  {
   "cell_type": "code",
   "execution_count": null,
   "id": "69a0adbb-1adc-4fb0-bbc4-a8f2d1951c27",
   "metadata": {},
   "outputs": [],
   "source": []
  },
  {
   "cell_type": "code",
   "execution_count": null,
   "id": "645a16f1-df3a-48f4-bad0-c0bf4f6b2d26",
   "metadata": {},
   "outputs": [],
   "source": []
  },
  {
   "cell_type": "code",
   "execution_count": 1,
   "id": "9f95d609-660b-40d5-80c4-f1fb6e346aaa",
   "metadata": {},
   "outputs": [],
   "source": [
    "# p3)Which collection of datatype in python do not allow duplication items?Write a code using a set to remove duplicates from\n",
    "#    the given list.\n",
    "#    ANS: The set datatype in python does not allow duplication to present in the items.The set is type functioned by using \n",
    "#         set()  command to the exist list.The set is denoted using {}.The output of the set always contain unique elements.\n",
    "#         The set is unorder meaning the index of the elements keeps varying based on the execution."
   ]
  },
  {
   "cell_type": "code",
   "execution_count": 10,
   "id": "9c767311-4da8-4cac-ad70-067ff3e57415",
   "metadata": {},
   "outputs": [
    {
     "name": "stdout",
     "output_type": "stream",
     "text": [
      "{1, 2, 3, 4}\n"
     ]
    }
   ],
   "source": [
    "#3)Write a program to remove the duplicates\n",
    "List=[1,1,1,2,1,3,1,4,2,1,2,2,2,3,2,4,3,2,4,3,1,3,2,3,3,3,4,4,1,4,2,4,3,4,4]\n",
    "setList=set(List)\n",
    "print(setList)"
   ]
  },
  {
   "cell_type": "code",
   "execution_count": null,
   "id": "d96a8c24-55f1-407d-b51d-e996e59c641a",
   "metadata": {},
   "outputs": [],
   "source": []
  },
  {
   "cell_type": "code",
   "execution_count": null,
   "id": "ff6e57c4-1a5c-4cb5-89bf-c748088c9809",
   "metadata": {},
   "outputs": [],
   "source": []
  },
  {
   "cell_type": "code",
   "execution_count": 2,
   "id": "6a5b102c-3d3e-40dd-8986-51b60b14cdfd",
   "metadata": {},
   "outputs": [],
   "source": [
    "# p4)Explain the differnce between the union() and update() methods for a set.Give an example of each method\n",
    "#  ANS: The union is used to print the elements of the set of the intialized to the union elements.The union does not return a\n",
    "#     duplicate elements when comparing.The union is declared by set1.uniont(set2,set3,...).The number of set inside the union\n",
    "#     are not subjected it can be as long as the user wish.\n",
    "#     The update in the set is used to add the wanted set to the existing set.The update does return the duplicate values while \n",
    "#     performing the function.The union is denoted by the set1.update(set2,set3,.....)"
   ]
  },
  {
   "cell_type": "code",
   "execution_count": 23,
   "id": "057a0aaf-e457-49e8-9166-d57945b8fe67",
   "metadata": {},
   "outputs": [
    {
     "data": {
      "text/plain": [
       "{'Krish Naik', 'Machine-Learning', 'Natural Language Processing', 'Sudhanshu'}"
      ]
     },
     "execution_count": 23,
     "metadata": {},
     "output_type": "execute_result"
    }
   ],
   "source": [
    "#Example of union() method\n",
    "s1={\"Krish Naik\",\"Sudhanshu\"}\n",
    "s2={\"Machine-Learning\",\"Natural Language Processing\"}\n",
    "s1.union(s2)"
   ]
  },
  {
   "cell_type": "code",
   "execution_count": 26,
   "id": "413d23dd-d51b-4dd4-8759-65ea4807b1f4",
   "metadata": {},
   "outputs": [
    {
     "data": {
      "text/plain": [
       "{'Krish Naik', 'Machine-Learning', 'Natural Language Processing', 'Sudhanshu'}"
      ]
     },
     "execution_count": 26,
     "metadata": {},
     "output_type": "execute_result"
    }
   ],
   "source": [
    "#Example of update() method\n",
    "a1={\"Krish Naik\",\"Sudhanshu\"}\n",
    "a2={\"Machine-Learning\",\"Natural Language Processing\"}\n",
    "a1.update(a2)\n",
    "a1"
   ]
  },
  {
   "cell_type": "code",
   "execution_count": null,
   "id": "62856bc3-e028-4ca3-8ce8-3b8036820443",
   "metadata": {},
   "outputs": [],
   "source": []
  },
  {
   "cell_type": "code",
   "execution_count": null,
   "id": "6c20148d-bde4-461b-aba0-6c26555bc3bd",
   "metadata": {},
   "outputs": [],
   "source": []
  },
  {
   "cell_type": "code",
   "execution_count": 4,
   "id": "64f16dfe-64ea-4b71-94f3-89d24d612436",
   "metadata": {},
   "outputs": [],
   "source": [
    "# p5)What is dicitonary?Give an example.Also,state whether a dictionary is ordered or unorder\n",
    "# ANS: The dictionary in python store datavalues in keys\n",
    "#     The keys can be string as well as numeric,Logical(True) but it can't be special characters\n",
    "#     The only key that can be added is tuple as tuple is immutable\n",
    "#     We can add the value present in the dictionary\n",
    "#     In copy() method new memory space is allocated the changes made to the existing dict value may not reflect on the copy \n",
    "#     declared dictionary\n",
    "#     The dictionary is declared by {key:Value}\n",
    "#     Example:\n",
    "#     dict1={'course':'DataScience','Web development',Java and system design'\n",
    "#     As before python3.7 the dictionary were unorder but from python 3.7 the dictionary are ordered pairs"
   ]
  },
  {
   "cell_type": "code",
   "execution_count": null,
   "id": "91692425-9356-4460-8f14-3a219d39500a",
   "metadata": {},
   "outputs": [],
   "source": []
  },
  {
   "cell_type": "code",
   "execution_count": null,
   "id": "886760b3-4baa-433c-8036-d06aa92be276",
   "metadata": {},
   "outputs": [],
   "source": []
  },
  {
   "cell_type": "code",
   "execution_count": 5,
   "id": "1c3fd2df-26cf-4cc0-a4c8-dc59b33eeda5",
   "metadata": {},
   "outputs": [],
   "source": [
    "# p6)Can we create a nested dicitonary?If so,please give an example by creating a simple one level nested dictionary?\n",
    "#   ANS:  Yes we can create a nested dictionary.The nested dictinary can be created by using nested dictionary."
   ]
  },
  {
   "cell_type": "code",
   "execution_count": 31,
   "id": "2d632b03-a2b8-40d2-88d0-2f1bbc89bf1d",
   "metadata": {},
   "outputs": [
    {
     "data": {
      "text/plain": [
       "{'course': {'datascience': 'Krish Naik and Sudhanshu',\n",
       "  'Java': 'telusko',\n",
       "  'Web development': 'Hitesh Choudary'}}"
      ]
     },
     "execution_count": 31,
     "metadata": {},
     "output_type": "execute_result"
    }
   ],
   "source": [
    "#p6)Example of the Nested dictionary\n",
    "dict1={'course':{'datascience':'Krish Naik and Sudhanshu','Java':'telusko','Web development':'Hitesh Choudary'}}\n",
    "dict1"
   ]
  },
  {
   "cell_type": "code",
   "execution_count": null,
   "id": "c61f9665-6593-413c-9609-9ed63b3998ae",
   "metadata": {},
   "outputs": [],
   "source": []
  },
  {
   "cell_type": "code",
   "execution_count": null,
   "id": "394c5233-ff06-465d-909d-38c3525bffa8",
   "metadata": {},
   "outputs": [],
   "source": []
  },
  {
   "cell_type": "code",
   "execution_count": 34,
   "id": "fd108df7-8fb6-4e2b-b92f-cbd5d2affdc6",
   "metadata": {},
   "outputs": [
    {
     "name": "stdout",
     "output_type": "stream",
     "text": [
      "{'language': 'python', 'course': 'Data Science Masters', 'topics': ['python', 'Machine Learning', 'Deep Learning']}\n"
     ]
    }
   ],
   "source": [
    "# p7)Using setdefault() method,create key named topics in the given dictionary and also add the value of the key as the list \n",
    "#    ['Python','Machine Learning','Deep Learning']\n",
    "#    dict1={'language':'Python','course':'Data Science Masters'}\n",
    "#        The setdefault() method returns the value of the item with the specified key.\n",
    "#        If the key does not exist, insert the key, with the specified value.\n",
    "dict1={'language':'python','course':'Data Science Masters'}\n",
    "x=dict1.setdefault(\"topics\",['python','Machine Learning','Deep Learning'])\n",
    "print(dict1)\n"
   ]
  },
  {
   "cell_type": "code",
   "execution_count": null,
   "id": "bf9b96ea-90a4-45d7-aa7c-67750670ccf9",
   "metadata": {},
   "outputs": [],
   "source": []
  },
  {
   "cell_type": "code",
   "execution_count": null,
   "id": "610038a1-91e1-42b8-b970-74aee57170d3",
   "metadata": {},
   "outputs": [],
   "source": []
  },
  {
   "cell_type": "code",
   "execution_count": null,
   "id": "8947b5cf-ccf6-4e3a-a2ad-f5321e0203ff",
   "metadata": {},
   "outputs": [],
   "source": [
    "# p8)What are three view objects in dictionaries?Use the in-built methods in python to display these three view objects\n",
    "#     for the given dictionary'\n",
    "#     dict1={'Sport':'Cricket','Teams':['India','Australia','Sri Lanka','New Zeland']}\n",
    "#         The three view objects in dictionaries are key(),value() and items() ."
   ]
  },
  {
   "cell_type": "code",
   "execution_count": 40,
   "id": "49da5239-8918-4335-947c-95d9e95f3733",
   "metadata": {},
   "outputs": [
    {
     "data": {
      "text/plain": [
       "dict_keys(['Sport', 'Teams'])"
      ]
     },
     "execution_count": 40,
     "metadata": {},
     "output_type": "execute_result"
    }
   ],
   "source": [
    "#Using key() Method\n",
    "dict1={'Sport':'Cricket','Teams':['India','Australia','Sri Lanka','New Zeland']}\n",
    "dict1.keys()"
   ]
  },
  {
   "cell_type": "code",
   "execution_count": 41,
   "id": "7735b6f1-bb68-4793-9ccc-bfeabab7086c",
   "metadata": {},
   "outputs": [
    {
     "data": {
      "text/plain": [
       "dict_values(['Cricket', ['India', 'Australia', 'Sri Lanka', 'New Zeland']])"
      ]
     },
     "execution_count": 41,
     "metadata": {},
     "output_type": "execute_result"
    }
   ],
   "source": [
    "#Using value() Method\n",
    "dict1={'Sport':'Cricket','Teams':['India','Australia','Sri Lanka','New Zeland']}\n",
    "dict1.values()"
   ]
  },
  {
   "cell_type": "code",
   "execution_count": 42,
   "id": "53994000-331d-46fc-8a69-9367d14ef577",
   "metadata": {},
   "outputs": [
    {
     "data": {
      "text/plain": [
       "dict_items([('Sport', 'Cricket'), ('Teams', ['India', 'Australia', 'Sri Lanka', 'New Zeland'])])"
      ]
     },
     "execution_count": 42,
     "metadata": {},
     "output_type": "execute_result"
    }
   ],
   "source": [
    "#Using items() Method\n",
    "dict1={'Sport':'Cricket','Teams':['India','Australia','Sri Lanka','New Zeland']}\n",
    "dict1.items()"
   ]
  }
 ],
 "metadata": {
  "kernelspec": {
   "display_name": "Python 3 (ipykernel)",
   "language": "python",
   "name": "python3"
  },
  "language_info": {
   "codemirror_mode": {
    "name": "ipython",
    "version": 3
   },
   "file_extension": ".py",
   "mimetype": "text/x-python",
   "name": "python",
   "nbconvert_exporter": "python",
   "pygments_lexer": "ipython3",
   "version": "3.10.8"
  }
 },
 "nbformat": 4,
 "nbformat_minor": 5
}
