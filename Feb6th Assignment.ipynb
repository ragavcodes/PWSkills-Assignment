{
 "cells": [
  {
   "cell_type": "markdown",
   "id": "83ea5dc9-0cc8-46d0-8675-1a7946380ca5",
   "metadata": {},
   "source": [
    "Q1. Create a function which will take a list as an argument and return the product of all the numbers\n",
    "after creating a flat list.\n",
    "Use the below-given list as an argument for your function.\n",
    "list1 = [1,2,3,4, [44,55,66, True], False, (34,56,78,89,34), {1,2,3,3,2,1}, {1:34, \"key2\": [55, 67, 78, 89], 4: (45,\n",
    "22, 61, 34)}, [56, 'data science'], 'Machine Learning']\n",
    "Note: you must extract numeric keys and values of the dictionary also."
   ]
  },
  {
   "cell_type": "code",
   "execution_count": 19,
   "id": "c4090179-d37a-4c8c-b72d-a9e4eab2e47a",
   "metadata": {},
   "outputs": [
    {
     "name": "stdout",
     "output_type": "stream",
     "text": [
      "The product of all the numbers in flat list is 1004417713182553476091084800\n"
     ]
    }
   ],
   "source": [
    "def num_product(in_list):\n",
    "    product=1\n",
    "    l=[]\n",
    "    for i in in_list:\n",
    "        if type(i) == int:\n",
    "            l.append(i)\n",
    "        elif type(i) in [list, tuple, set]:\n",
    "            for ele in i:\n",
    "                if type(ele)==int:\n",
    "                    l.append(ele)\n",
    "        elif type(i)==dict:\n",
    "            for ele in i.keys():\n",
    "                if type(ele)==int:\n",
    "                    l.append(ele)\n",
    "            for ele in i.values():\n",
    "                if type(ele)==int:\n",
    "                    l.append(ele)\n",
    "                elif type(ele) in [list, tuple]:\n",
    "                    for ele1 in ele:\n",
    "                        if type(ele1)==int:\n",
    "                            l.append(ele1)\n",
    "    for i in l:\n",
    "        product *=i\n",
    "    return f\"The product of all the numbers in flat list is {product}\"\n",
    "in_list = [1,2,3,4, [44,55,66, True], False, (34,56,78,89,34), (1,2,3,3,2,1), (1,34, \"key2\", [55, 67, 78, 89]), {4:(45, 22,61, 34)}, [58, \"data science\"], \"Machine Learning\"]\n",
    "#result = product_of_floats(my_list)\n",
    "print(num_product(in_list))"
   ]
  },
  {
   "cell_type": "code",
   "execution_count": null,
   "id": "e7b7103f-c89a-4726-88e7-d542439b5c2e",
   "metadata": {},
   "outputs": [],
   "source": []
  },
  {
   "cell_type": "code",
   "execution_count": null,
   "id": "653dc48b-f1c5-4be8-91f7-14da97d838e7",
   "metadata": {},
   "outputs": [],
   "source": []
  },
  {
   "cell_type": "code",
   "execution_count": null,
   "id": "b105a9a5-f444-4940-9938-23771a7e6ed6",
   "metadata": {},
   "outputs": [],
   "source": []
  },
  {
   "cell_type": "markdown",
   "id": "7959a2a1-8820-49df-9cdf-d4b7656e7fe7",
   "metadata": {},
   "source": [
    "Q2. Write a python program for encrypting a message sent to you by your friend. The logic of encryption\n",
    "should be such that, for a the output should be z. For b, the output should be y. For c, the output should\n",
    "be x respectively. Also, the whitespace should be replaced with a dollar sign. Keep the punctuation\n",
    "marks unchanged.\n",
    "Input Sentence: I want to become a Data Scientist.\n",
    "Encrypt the above input sentence using the program you just created.\n",
    "Note: Convert the given input sentence into lowercase before encrypting. The final output should be\n",
    "lowercase."
   ]
  },
  {
   "cell_type": "code",
   "execution_count": 57,
   "id": "8624f226-31f9-4ff9-aa0a-93119a840851",
   "metadata": {},
   "outputs": [
    {
     "name": "stdout",
     "output_type": "stream",
     "text": [
      "r$dzmg$gl$yvxlnv$z$wzgz$hxrvmgrhg\n"
     ]
    }
   ],
   "source": [
    "def encryptmethod(ls):\n",
    "    t=\"\"\n",
    "    for i in ls:\n",
    "        if i.isalpha()==True:\n",
    "            t+=(chr(97+abs(ord(i)-ord('z'))))\n",
    "        elif i==\" \":\n",
    "            t+=(\"$\")\n",
    "    return t\n",
    "encryptinput=\"I want to become a Data Scientist\"\n",
    "encryptinput=encryptinput.lower()\n",
    "print(encryptmethod(encryptinput))"
   ]
  },
  {
   "cell_type": "code",
   "execution_count": null,
   "id": "134e9f0c-70b1-4cbf-9a8f-b0a519a9ac9e",
   "metadata": {},
   "outputs": [],
   "source": []
  }
 ],
 "metadata": {
  "kernelspec": {
   "display_name": "Python 3 (ipykernel)",
   "language": "python",
   "name": "python3"
  },
  "language_info": {
   "codemirror_mode": {
    "name": "ipython",
    "version": 3
   },
   "file_extension": ".py",
   "mimetype": "text/x-python",
   "name": "python",
   "nbconvert_exporter": "python",
   "pygments_lexer": "ipython3",
   "version": "3.10.8"
  }
 },
 "nbformat": 4,
 "nbformat_minor": 5
}
