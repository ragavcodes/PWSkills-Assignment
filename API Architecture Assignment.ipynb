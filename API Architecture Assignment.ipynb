{
 "cells": [
  {
   "cell_type": "markdown",
   "id": "f666bfee-a22d-401a-bb7b-b9f079e07ca9",
   "metadata": {},
   "source": [
    "Q1. What is an API? Give an example, where an API is used in real life."
   ]
  },
  {
   "cell_type": "markdown",
   "id": "f84e647b-3cf0-452f-985b-097b4d894f35",
   "metadata": {},
   "source": [
    "The term API stands for Application Programming Interface.The API are used in all ascept of the internet such as mobile payments,Ordering,Attendence,Messaging,Mailing,Searching and many more."
   ]
  },
  {
   "cell_type": "code",
   "execution_count": null,
   "id": "fb37fdb9-9310-4763-b87d-3a9bc43365c2",
   "metadata": {},
   "outputs": [],
   "source": []
  },
  {
   "cell_type": "code",
   "execution_count": null,
   "id": "5c8f85c2-cf36-490d-a09b-b1f0ddee9d7d",
   "metadata": {},
   "outputs": [],
   "source": []
  },
  {
   "cell_type": "code",
   "execution_count": null,
   "id": "e8e56fda-f138-4439-aaea-331843593eb1",
   "metadata": {},
   "outputs": [],
   "source": []
  },
  {
   "cell_type": "markdown",
   "id": "b76b6fe5-c511-4a3d-a763-254fb01a5c9e",
   "metadata": {},
   "source": [
    "Q2. Give advantages and disadvantages of using API."
   ]
  },
  {
   "cell_type": "markdown",
   "id": "5ee4b7e3-9393-475c-9c53-a92ab98654e7",
   "metadata": {},
   "source": [
    "The Advantages of Using API are\n",
    "               1)The API makes good connection to various applicatioion.\n",
    "               2)The API makes faster response to the request.\n",
    "               3)It makes everything to onething\n",
    "The Disadvantages of Using API are\n",
    "               1)To many API may cause in collision of the data\n",
    "               2)It is hard to synchronize many API as it take time consuming\n",
    "               3)The time consumption is very important if time out then it arise to big problem such as transaction"
   ]
  },
  {
   "cell_type": "code",
   "execution_count": null,
   "id": "dd10193e-2704-4e11-8cb0-2e6ca7e07a6e",
   "metadata": {},
   "outputs": [],
   "source": []
  },
  {
   "cell_type": "code",
   "execution_count": null,
   "id": "14792d5a-416e-42bd-a7d9-07c4b47b2a74",
   "metadata": {},
   "outputs": [],
   "source": []
  },
  {
   "cell_type": "code",
   "execution_count": null,
   "id": "1f67552b-73be-441b-93a3-87add1bec001",
   "metadata": {},
   "outputs": [],
   "source": []
  },
  {
   "cell_type": "markdown",
   "id": "f10071ae-bd9b-4a37-bbd4-fdf9f3dc9a9a",
   "metadata": {},
   "source": [
    "Q3. What is a Web API? Differentiate between API and Web API."
   ]
  },
  {
   "cell_type": "markdown",
   "id": "7ac03bea-f4b6-4ae2-b165-98328b58946d",
   "metadata": {},
   "source": [
    "The Web API is defined as the API which is used for the HTTPs protocol and the general API term is used in protocol such as the TCP,SMTP,FTP Protocls\n",
    "The difference between them is that Web API can only be used for internet purpose and the API can be used on other connection\n",
    "protocol"
   ]
  },
  {
   "cell_type": "code",
   "execution_count": null,
   "id": "65b93c10-34fb-475b-98d7-15bba024fa99",
   "metadata": {},
   "outputs": [],
   "source": []
  },
  {
   "cell_type": "code",
   "execution_count": null,
   "id": "8c5466d6-a36c-4b4b-bc9a-f5f3684a8cfa",
   "metadata": {},
   "outputs": [],
   "source": []
  },
  {
   "cell_type": "code",
   "execution_count": null,
   "id": "642aa45d-ddc8-4ad9-a1b0-587396d038f1",
   "metadata": {},
   "outputs": [],
   "source": []
  },
  {
   "cell_type": "markdown",
   "id": "16e85aec-d452-4325-9480-44c75edc8938",
   "metadata": {},
   "source": [
    "Q4. Explain REST and SOAP Architecture. Mention shortcomings of SOAP."
   ]
  },
  {
   "cell_type": "markdown",
   "id": "430ae1fb-309d-41e2-9a2d-b5dc6eca6c90",
   "metadata": {},
   "source": [
    "The REST Architecture refers to the Representational State Transfer which is used for the HTTP Protocol.\n",
    "\n",
    "The SOAP Architecture refers to the Simple Object Access Protocol.\n",
    "\n",
    "The SOAP Architecture used only for transfering the XML file.\n",
    "\n",
    "Where as the Rest can be scaled to work on different file system."
   ]
  },
  {
   "cell_type": "code",
   "execution_count": null,
   "id": "5094276e-6de4-4a19-85b3-4421489728fd",
   "metadata": {},
   "outputs": [],
   "source": []
  },
  {
   "cell_type": "code",
   "execution_count": null,
   "id": "8da61a04-b90a-4412-8a12-e0daa0df8408",
   "metadata": {},
   "outputs": [],
   "source": []
  },
  {
   "cell_type": "code",
   "execution_count": null,
   "id": "b8968891-06b2-4fe3-b231-d381a32921ce",
   "metadata": {},
   "outputs": [],
   "source": []
  },
  {
   "cell_type": "markdown",
   "id": "eb39660b-7e98-4f80-81d6-e4c86a089d41",
   "metadata": {},
   "source": [
    "Q5. Differentiate between REST and SOAP."
   ]
  },
  {
   "cell_type": "markdown",
   "id": "d2d0b385-808e-48c8-8c8e-17d70f45b055",
   "metadata": {},
   "source": [
    "REST API:\n",
    "\n",
    "    1.Relies on REST (Representational State Transfer) architecture using HTTP.\n",
    "    \n",
    "    2.It works with GET, POST, PUT, DELETE\n",
    "    \n",
    "    3.Less structured -> less bulky data\n",
    "\n",
    "SOAP API: \n",
    "    \n",
    "    1.Relies on SOAP (Simple Object Access Protocol)\n",
    "    \n",
    "    2.It works with WSDL\n",
    "    \n",
    "    3.Highly structured/typed\n",
    "   "
   ]
  }
 ],
 "metadata": {
  "kernelspec": {
   "display_name": "Python 3 (ipykernel)",
   "language": "python",
   "name": "python3"
  },
  "language_info": {
   "codemirror_mode": {
    "name": "ipython",
    "version": 3
   },
   "file_extension": ".py",
   "mimetype": "text/x-python",
   "name": "python",
   "nbconvert_exporter": "python",
   "pygments_lexer": "ipython3",
   "version": "3.10.8"
  }
 },
 "nbformat": 4,
 "nbformat_minor": 5
}
