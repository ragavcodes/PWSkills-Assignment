{
 "cells": [
  {
   "cell_type": "code",
   "execution_count": 1,
   "id": "0c4e4eed-a3f0-4e3e-a10b-f7a80be5f15b",
   "metadata": {},
   "outputs": [],
   "source": [
    "# p1)Which function is used to create a function? Create a function to return a list af odd numbers in the \n",
    "#    range of 1 to 25"
   ]
  },
  {
   "cell_type": "code",
   "execution_count": 18,
   "id": "eea9571d-28ee-4a1f-98ae-9e4e22ba1fa6",
   "metadata": {},
   "outputs": [],
   "source": [
    "def oddfunc(x):\n",
    "    l=[]\n",
    "    for i in range(1,x+1):\n",
    "        if i%2==1:\n",
    "            l.append(i)\n",
    "    return l"
   ]
  },
  {
   "cell_type": "code",
   "execution_count": 19,
   "id": "9663936e-0a1a-4368-a4f4-b910bb009f0d",
   "metadata": {},
   "outputs": [
    {
     "name": "stdout",
     "output_type": "stream",
     "text": [
      "1 3 5 7 9 11 13 15 17 19 21 23 25\n"
     ]
    }
   ],
   "source": [
    "print(*oddfunc(25))"
   ]
  },
  {
   "cell_type": "code",
   "execution_count": null,
   "id": "6c645cb9-9335-4f82-a3a2-044a27a7ab16",
   "metadata": {},
   "outputs": [],
   "source": []
  },
  {
   "cell_type": "code",
   "execution_count": null,
   "id": "4e0c83c7-9265-4864-be14-b9ab21be227f",
   "metadata": {},
   "outputs": [],
   "source": []
  },
  {
   "cell_type": "code",
   "execution_count": null,
   "id": "a84697ca-d7fc-4636-9728-b4699b8aff5a",
   "metadata": {},
   "outputs": [],
   "source": []
  },
  {
   "cell_type": "code",
   "execution_count": null,
   "id": "065f55c1-59eb-4aeb-8b4f-e27a85f91dff",
   "metadata": {},
   "outputs": [],
   "source": []
  },
  {
   "cell_type": "code",
   "execution_count": null,
   "id": "cfabd208-de10-475c-8cea-ac71e78b81d0",
   "metadata": {},
   "outputs": [],
   "source": []
  },
  {
   "cell_type": "code",
   "execution_count": 2,
   "id": "254bce05-497a-4cbe-b904-8b32c0cde896",
   "metadata": {},
   "outputs": [],
   "source": [
    "# p2)Why are *args,**kwargs is used in some funtions? Create a funtion each for *args and **kwargs to \n",
    "#        demonstrate their use\n",
    "#          ANS:  The *args funtion is used inside the def keyword to pass multiple number of arguements.Using the *args we can \n",
    "#            take various types of data types such as array,string,list,tuple,dictionary in one file.\n",
    "#            The **kwargs function is used inside the def keyword to return the value based on the key \n",
    "#            and value in dictionary python.The return value would be a dictionary type.Using this a list type yield into \n",
    "#            an dictionary type format."
   ]
  },
  {
   "cell_type": "code",
   "execution_count": 23,
   "id": "e8ba8a13-fcc0-4290-a66f-63d630271ddc",
   "metadata": {},
   "outputs": [],
   "source": [
    "def example1(*args):\n",
    "    return args"
   ]
  },
  {
   "cell_type": "code",
   "execution_count": 24,
   "id": "532f6e55-48e6-4582-b954-ee4c40c14992",
   "metadata": {},
   "outputs": [
    {
     "data": {
      "text/plain": [
       "(1, 2, 3, 'PWSkills', ['Data'], {'Science'})"
      ]
     },
     "execution_count": 24,
     "metadata": {},
     "output_type": "execute_result"
    }
   ],
   "source": [
    "example1(1,2,3,'PWSkills',['Data'],{'Science'})"
   ]
  },
  {
   "cell_type": "code",
   "execution_count": 26,
   "id": "80af239d-b817-4e27-8fc1-c6a9b45d2f74",
   "metadata": {},
   "outputs": [],
   "source": [
    "def example2(**kwargs):\n",
    "    return kwargs"
   ]
  },
  {
   "cell_type": "code",
   "execution_count": 29,
   "id": "312a1de5-cc18-4e57-bcc8-a3677b55e890",
   "metadata": {},
   "outputs": [
    {
     "data": {
      "text/plain": [
       "{'a': 1, 'b': 2, 'PWSkills': 'DataScience'}"
      ]
     },
     "execution_count": 29,
     "metadata": {},
     "output_type": "execute_result"
    }
   ],
   "source": [
    "example2(a=1,b=2,PWSkills='DataScience')"
   ]
  },
  {
   "cell_type": "code",
   "execution_count": null,
   "id": "df298e31-0578-4f44-a47d-cbc0ddd987ab",
   "metadata": {},
   "outputs": [],
   "source": []
  },
  {
   "cell_type": "code",
   "execution_count": null,
   "id": "b208c842-2bc6-4a8e-8d27-8224bc74855a",
   "metadata": {},
   "outputs": [],
   "source": []
  },
  {
   "cell_type": "code",
   "execution_count": null,
   "id": "173fc602-23fd-4103-9551-4f22c418915d",
   "metadata": {},
   "outputs": [],
   "source": []
  },
  {
   "cell_type": "code",
   "execution_count": null,
   "id": "4d432000-c726-44d6-9c6c-50daf783cd51",
   "metadata": {},
   "outputs": [],
   "source": []
  },
  {
   "cell_type": "code",
   "execution_count": null,
   "id": "22bec764-cc8f-4793-b34f-e809cc2d1c55",
   "metadata": {},
   "outputs": [],
   "source": []
  },
  {
   "cell_type": "code",
   "execution_count": 3,
   "id": "6d097b20-5c1e-414f-a506-4aca5b21931c",
   "metadata": {},
   "outputs": [],
   "source": [
    "# p3)What is an iterator in python? Name the method used to initialise the iterator object and the method\n",
    "# used for iteration. Use these methods to print the first five elements of the given list [2, 4, 6, 8, 10, 12, 14, 16,\n",
    "# 18, 20].\n",
    "#     ANS: Iterator is to iterate over an object given.Exanple could be an for operation,range operation in python.\n",
    "#     The iteration is done by giving the intial value and the final value it need to iterate for the given value."
   ]
  },
  {
   "cell_type": "code",
   "execution_count": 30,
   "id": "670525c1-8278-4221-9269-d5876f9b5e5c",
   "metadata": {},
   "outputs": [],
   "source": [
    "l=[2, 4, 6, 8, 10, 12, 14, 16,18, 20]"
   ]
  },
  {
   "cell_type": "code",
   "execution_count": 32,
   "id": "6fbc7cc2-045a-43c8-ada8-20554a94bd32",
   "metadata": {},
   "outputs": [
    {
     "name": "stdout",
     "output_type": "stream",
     "text": [
      "2 4 6 8 10 "
     ]
    }
   ],
   "source": [
    "for i in range(0,5):\n",
    "    print(l[i],end=' ')"
   ]
  },
  {
   "cell_type": "code",
   "execution_count": null,
   "id": "7888358f-554a-44da-8580-118072a45669",
   "metadata": {},
   "outputs": [],
   "source": []
  },
  {
   "cell_type": "code",
   "execution_count": null,
   "id": "0452e7d3-ff0a-41d9-adfe-56fee5d4f749",
   "metadata": {},
   "outputs": [],
   "source": []
  },
  {
   "cell_type": "code",
   "execution_count": null,
   "id": "07ddb771-34ee-44da-aa3a-bf56b92d0761",
   "metadata": {},
   "outputs": [],
   "source": []
  },
  {
   "cell_type": "code",
   "execution_count": null,
   "id": "a74fb2a5-2b43-49ad-bb78-01b880d517e6",
   "metadata": {},
   "outputs": [],
   "source": []
  },
  {
   "cell_type": "code",
   "execution_count": 4,
   "id": "48405ca5-7c1f-4ba6-a4dc-a485f276cc9e",
   "metadata": {},
   "outputs": [],
   "source": [
    "# p4)What is a generator function in python? Why yield keyword is used? Give an example of a generator\n",
    "#    function.\n",
    "#      Ans: The generator function is used to generate the values required for the operation.Whenever an \n",
    "#       generator function is declared yield is complimented with it. "
   ]
  },
  {
   "cell_type": "code",
   "execution_count": 64,
   "id": "71b55748-b292-421e-aff0-cf429fdf099f",
   "metadata": {},
   "outputs": [],
   "source": [
    "#Powers of numbers based on the number provided to program\n",
    "def test_gen(n):\n",
    "    a=n\n",
    "    for i in range(n):\n",
    "        yield a\n",
    "        a=a**2"
   ]
  },
  {
   "cell_type": "code",
   "execution_count": 65,
   "id": "38d053f5-6db1-4017-8a42-f23517a3f9b4",
   "metadata": {},
   "outputs": [
    {
     "name": "stdout",
     "output_type": "stream",
     "text": [
      "3\n",
      "9\n",
      "81\n"
     ]
    }
   ],
   "source": [
    "for i in test_gen(3):\n",
    "    print(i)"
   ]
  },
  {
   "cell_type": "code",
   "execution_count": null,
   "id": "f2a0c51c-6630-4329-9d8b-46e95afc40ce",
   "metadata": {},
   "outputs": [],
   "source": []
  },
  {
   "cell_type": "code",
   "execution_count": null,
   "id": "d9ef9b64-dfd7-47ae-afa2-1fb3eedf6f02",
   "metadata": {},
   "outputs": [],
   "source": []
  },
  {
   "cell_type": "code",
   "execution_count": null,
   "id": "5d411843-6a10-4481-b5ea-74d22fb9d76b",
   "metadata": {},
   "outputs": [],
   "source": []
  },
  {
   "cell_type": "code",
   "execution_count": null,
   "id": "76c1b540-6992-4428-a3bf-e4b472f8b89e",
   "metadata": {},
   "outputs": [],
   "source": []
  },
  {
   "cell_type": "code",
   "execution_count": 6,
   "id": "83e711ad-e73d-4d55-a60b-36ba8e4f4b32",
   "metadata": {},
   "outputs": [],
   "source": [
    "# p5)Create a generator function for prime numbers less than 1000. Use the next() method to print the\n",
    "# first 20 prime numbers."
   ]
  },
  {
   "cell_type": "code",
   "execution_count": 82,
   "id": "3cb1314a-a0bb-41a1-9eec-1f95d120dd2c",
   "metadata": {},
   "outputs": [
    {
     "name": "stdout",
     "output_type": "stream",
     "text": [
      "2\n",
      "3\n",
      "5\n",
      "7\n",
      "11\n",
      "13\n",
      "17\n",
      "19\n",
      "23\n",
      "29\n",
      "31\n",
      "37\n",
      "41\n",
      "43\n",
      "47\n",
      "53\n",
      "59\n",
      "61\n"
     ]
    }
   ],
   "source": [
    "def isPrime(n):\n",
    "    if(n==1 or n==0):\n",
    "        return False\n",
    "    for i in range(2,int(n**(1/2))+1):\n",
    "        if(n%i==0):\n",
    "            return False\n",
    "    return True\n",
    "N = 1000\n",
    "l=[]\n",
    "for i in range(1,N+1):\n",
    "    if(isPrime(i)):\n",
    "        #print(i,end=' ')\n",
    "        l.append(i)\n",
    "l=iter(l)\n",
    "print(next(l))\n",
    "print(next(l))\n",
    "print(next(l))\n",
    "print(next(l))\n",
    "print(next(l))\n",
    "print(next(l))\n",
    "print(next(l))\n",
    "print(next(l))\n",
    "print(next(l))\n",
    "print(next(l))\n",
    "print(next(l))\n",
    "print(next(l))\n",
    "print(next(l))\n",
    "print(next(l))\n",
    "print(next(l))\n",
    "print(next(l))\n",
    "print(next(l))\n",
    "print(next(l))"
   ]
  },
  {
   "cell_type": "code",
   "execution_count": null,
   "id": "97219178-ee50-4878-8011-b906a4e73f26",
   "metadata": {},
   "outputs": [],
   "source": []
  }
 ],
 "metadata": {
  "kernelspec": {
   "display_name": "Python 3 (ipykernel)",
   "language": "python",
   "name": "python3"
  },
  "language_info": {
   "codemirror_mode": {
    "name": "ipython",
    "version": 3
   },
   "file_extension": ".py",
   "mimetype": "text/x-python",
   "name": "python",
   "nbconvert_exporter": "python",
   "pygments_lexer": "ipython3",
   "version": "3.10.8"
  }
 },
 "nbformat": 4,
 "nbformat_minor": 5
}
